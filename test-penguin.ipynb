{
  "cells": [
    {
      "cell_type": "code",
      "source": [
        "endpoint = 'YOUR_ENDPOINT'  #Replace with your endpoint
        "key = 'YOUR_KEY'  #Replace with your key
        "\r\n",
        "import urllib.request\r\n",
        "import json\r\n",
        "import os\r\n",
        "\r\n",
        "data = {\r\n",
        "    \"Inputs\": {\r\n",
        "        \"WebServiceInput0\":\r\n",
        "        [\r\n",
        "            {\r\n",
        "                    'CulmenLength': 49.1,\r\n",
        "                    'CulmenDepth': 4.8,\r\n",
        "                    'FlipperLength': 1220,\r\n",
        "                    'BodyMass': 5150,\r\n",
        "            },\r\n",
        "        ],\r\n",
        "    },\r\n",
        "    \"GlobalParameters\":  {\r\n",
        "    }\r\n",
        "}\r\n",
        "\r\n",
        "body = str.encode(json.dumps(data))\r\n",
        "\r\n",
        "\r\n",
        "headers = {'Content-Type':'application/json', 'Authorization':('Bearer '+ key)}\r\n",
        "\r\n",
        "req = urllib.request.Request(endpoint, body, headers)\r\n",
        "\r\n",
        "try:\r\n",
        "    response = urllib.request.urlopen(req)\r\n",
        "    result = response.read()\r\n",
        "    json_result = json.loads(result)\r\n",
        "    output = json_result[\"Results\"][\"WebServiceOutput0\"][0]\r\n",
        "    print('Cluster: {}'.format(output[\"Assignments\"]))\r\n",
        "\r\n",
        "except urllib.error.HTTPError as error:\r\n",
        "    print(\"The request failed with status code: \" + str(error.code))\r\n",
        "\r\n",
        "    # Print the headers to help debug\r\n",
        "    print(error.info())\r\n",
        "    print(json.loads(error.read().decode(\"utf8\", 'ignore')))"
      ],
      "outputs": [
        {
          "output_type": "stream",
          "name": "stdout",
          "text": "Cluster: 1\n"
        }
      ],
      "execution_count": 2,
      "metadata": {
        "gather": {
          "logged": 1641861906656
        }
      }
    }
  ],
  "metadata": {
    "kernelspec": {
      "name": "python3-azureml",
      "language": "python",
      "display_name": "Python 3.6 - AzureML"
    },
    "language_info": {
      "name": "python",
      "version": "3.6.9",
      "mimetype": "text/x-python",
      "codemirror_mode": {
        "name": "ipython",
        "version": 3
      },
      "pygments_lexer": "ipython3",
      "nbconvert_exporter": "python",
      "file_extension": ".py"
    },
    "kernel_info": {
      "name": "python3-azureml"
    },
    "nteract": {
      "version": "nteract-front-end@1.0.0"
    }
  },
  "nbformat": 4,
  "nbformat_minor": 2
}